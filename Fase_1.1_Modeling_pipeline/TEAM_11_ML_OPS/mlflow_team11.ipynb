{
 "cells": [
  {
   "cell_type": "code",
   "execution_count": 1,
   "metadata": {},
   "outputs": [],
   "source": [
    "import sys\n",
    "sys.path.append('team_11_ml_ops_module')  # Reemplaza 'team_11' con la ruta correcta de tu carpeta\n",
    "\n",
    "from load_data import load_data\n",
    "from explore_data import explore_data\n",
    "from modeling.train import train_logistic_regression, train_random_forest, train_with_pca\n",
    "\n",
    "import mlflow\n",
    "import mlflow.sklearn\n",
    "\n",
    "from sklearn.model_selection import train_test_split\n",
    "#from sklearn.ensemble import RandomForestRegressor\n",
    "from sklearn.pipeline import Pipeline\n",
    "from sklearn.preprocessing import StandardScaler\n",
    "from sklearn.linear_model import LogisticRegression\n",
    "from sklearn.metrics import classification_report, confusion_matrix, accuracy_score, precision_score, recall_score, f1_score\n",
    "import itertools"
   ]
  },
  {
   "cell_type": "markdown",
   "metadata": {},
   "source": [
    "# Se leen los datos de divorcio"
   ]
  },
  {
   "cell_type": "code",
   "execution_count": 2,
   "metadata": {},
   "outputs": [],
   "source": [
    "datapath = 'DATA/divorce.csv'\n",
    "data = load_data(datapath)"
   ]
  },
  {
   "cell_type": "markdown",
   "metadata": {},
   "source": [
    "# Se genera un mlflow con regresion logistica"
   ]
  },
  {
   "cell_type": "code",
   "execution_count": 3,
   "metadata": {},
   "outputs": [
    {
     "data": {
      "text/plain": [
       "<Experiment: artifact_location='mlflow-artifacts:/126551647513598786', creation_time=1728861523722, experiment_id='126551647513598786', last_update_time=1728861523722, lifecycle_stage='active', name='/team11/prediccion_divorsio', tags={}>"
      ]
     },
     "execution_count": 3,
     "metadata": {},
     "output_type": "execute_result"
    }
   ],
   "source": [
    "mlflow.set_tracking_uri(\"http://localhost:8080\")\n",
    "mlflow.set_experiment(f\"/team11/prediccion_divorsio\")"
   ]
  },
  {
   "cell_type": "code",
   "execution_count": 4,
   "metadata": {},
   "outputs": [
    {
     "name": "stdout",
     "output_type": "stream",
     "text": [
      "     Atr1  Atr2  Atr3  Atr4  Atr5  Atr6  Atr7  Atr8  Atr9  Atr10  ...  Atr46  \\\n",
      "0       2     2     4     1     0     0     0     0     0      0  ...      2   \n",
      "1       4     4     4     4     4     0     0     4     4      4  ...      2   \n",
      "2       2     2     2     2     1     3     2     1     1      2  ...      3   \n",
      "3       3     2     3     2     3     3     3     3     3      3  ...      2   \n",
      "4       2     2     1     1     1     1     0     0     0      0  ...      2   \n",
      "..    ...   ...   ...   ...   ...   ...   ...   ...   ...    ...  ...    ...   \n",
      "165     0     0     0     0     0     0     0     0     0      0  ...      1   \n",
      "166     0     0     0     0     0     0     0     0     0      0  ...      4   \n",
      "167     1     1     0     0     0     0     0     0     0      1  ...      3   \n",
      "168     0     0     0     0     0     0     0     0     0      0  ...      3   \n",
      "169     0     0     0     0     0     0     0     1     0      0  ...      3   \n",
      "\n",
      "     Atr47  Atr48  Atr49  Atr50  Atr51  Atr52  Atr53  Atr54  Class  \n",
      "0        1      3      3      3      2      3      2      1      1  \n",
      "1        2      3      4      4      4      4      2      2      1  \n",
      "2        2      3      1      1      1      2      2      2      1  \n",
      "3        2      3      3      3      3      2      2      2      1  \n",
      "4        1      2      3      2      2      2      1      0      1  \n",
      "..     ...    ...    ...    ...    ...    ...    ...    ...    ...  \n",
      "165      0      4      1      1      4      2      2      2      0  \n",
      "166      1      2      2      2      2      3      2      2      0  \n",
      "167      0      2      0      1      1      3      0      0      0  \n",
      "168      3      2      2      3      2      4      3      1      0  \n",
      "169      4      4      0      1      3      3      3      1      0  \n",
      "\n",
      "[170 rows x 55 columns]\n",
      "Class\n",
      "0    86\n",
      "1    84\n",
      "Name: count, dtype: int64\n",
      "<class 'pandas.core.frame.DataFrame'>\n",
      "RangeIndex: 170 entries, 0 to 169\n",
      "Data columns (total 55 columns):\n",
      " #   Column  Non-Null Count  Dtype\n",
      "---  ------  --------------  -----\n",
      " 0   Atr1    170 non-null    int64\n",
      " 1   Atr2    170 non-null    int64\n",
      " 2   Atr3    170 non-null    int64\n",
      " 3   Atr4    170 non-null    int64\n",
      " 4   Atr5    170 non-null    int64\n",
      " 5   Atr6    170 non-null    int64\n",
      " 6   Atr7    170 non-null    int64\n",
      " 7   Atr8    170 non-null    int64\n",
      " 8   Atr9    170 non-null    int64\n",
      " 9   Atr10   170 non-null    int64\n",
      " 10  Atr11   170 non-null    int64\n",
      " 11  Atr12   170 non-null    int64\n",
      " 12  Atr13   170 non-null    int64\n",
      " 13  Atr14   170 non-null    int64\n",
      " 14  Atr15   170 non-null    int64\n",
      " 15  Atr16   170 non-null    int64\n",
      " 16  Atr17   170 non-null    int64\n",
      " 17  Atr18   170 non-null    int64\n",
      " 18  Atr19   170 non-null    int64\n",
      " 19  Atr20   170 non-null    int64\n",
      " 20  Atr21   170 non-null    int64\n",
      " 21  Atr22   170 non-null    int64\n",
      " 22  Atr23   170 non-null    int64\n",
      " 23  Atr24   170 non-null    int64\n",
      " 24  Atr25   170 non-null    int64\n",
      " 25  Atr26   170 non-null    int64\n",
      " 26  Atr27   170 non-null    int64\n",
      " 27  Atr28   170 non-null    int64\n",
      " 28  Atr29   170 non-null    int64\n",
      " 29  Atr30   170 non-null    int64\n",
      " 30  Atr31   170 non-null    int64\n",
      " 31  Atr32   170 non-null    int64\n",
      " 32  Atr33   170 non-null    int64\n",
      " 33  Atr34   170 non-null    int64\n",
      " 34  Atr35   170 non-null    int64\n",
      " 35  Atr36   170 non-null    int64\n",
      " 36  Atr37   170 non-null    int64\n",
      " 37  Atr38   170 non-null    int64\n",
      " 38  Atr39   170 non-null    int64\n",
      " 39  Atr40   170 non-null    int64\n",
      " 40  Atr41   170 non-null    int64\n",
      " 41  Atr42   170 non-null    int64\n",
      " 42  Atr43   170 non-null    int64\n",
      " 43  Atr44   170 non-null    int64\n",
      " 44  Atr45   170 non-null    int64\n",
      " 45  Atr46   170 non-null    int64\n",
      " 46  Atr47   170 non-null    int64\n",
      " 47  Atr48   170 non-null    int64\n",
      " 48  Atr49   170 non-null    int64\n",
      " 49  Atr50   170 non-null    int64\n",
      " 50  Atr51   170 non-null    int64\n",
      " 51  Atr52   170 non-null    int64\n",
      " 52  Atr53   170 non-null    int64\n",
      " 53  Atr54   170 non-null    int64\n",
      " 54  Class   170 non-null    int64\n",
      "dtypes: int64(55)\n",
      "memory usage: 73.2 KB\n",
      "None\n",
      "             Atr1        Atr2        Atr3        Atr4        Atr5        Atr6  \\\n",
      "count  170.000000  170.000000  170.000000  170.000000  170.000000  170.000000   \n",
      "mean     1.776471    1.652941    1.764706    1.482353    1.541176    0.747059   \n",
      "std      1.627257    1.468654    1.415444    1.504327    1.632169    0.904046   \n",
      "min      0.000000    0.000000    0.000000    0.000000    0.000000    0.000000   \n",
      "25%      0.000000    0.000000    0.000000    0.000000    0.000000    0.000000   \n",
      "50%      2.000000    2.000000    2.000000    1.000000    1.000000    0.000000   \n",
      "75%      3.000000    3.000000    3.000000    3.000000    3.000000    1.000000   \n",
      "max      4.000000    4.000000    4.000000    4.000000    4.000000    4.000000   \n",
      "\n",
      "             Atr7        Atr8        Atr9       Atr10  ...       Atr46  \\\n",
      "count  170.000000  170.000000  170.000000  170.000000  ...  170.000000   \n",
      "mean     0.494118    1.452941    1.458824    1.576471  ...    2.552941   \n",
      "std      0.898698    1.546371    1.557976    1.421529  ...    1.371786   \n",
      "min      0.000000    0.000000    0.000000    0.000000  ...    0.000000   \n",
      "25%      0.000000    0.000000    0.000000    0.000000  ...    2.000000   \n",
      "50%      0.000000    1.000000    1.000000    2.000000  ...    3.000000   \n",
      "75%      1.000000    3.000000    3.000000    3.000000  ...    4.000000   \n",
      "max      4.000000    4.000000    4.000000    4.000000  ...    4.000000   \n",
      "\n",
      "            Atr47       Atr48       Atr49       Atr50       Atr51       Atr52  \\\n",
      "count  170.000000  170.000000  170.000000  170.000000  170.000000  170.000000   \n",
      "mean     2.270588    2.741176    2.382353    2.429412    2.476471    2.517647   \n",
      "std      1.586841    1.137348    1.511587    1.405090    1.260238    1.476537   \n",
      "min      0.000000    0.000000    0.000000    0.000000    0.000000    0.000000   \n",
      "25%      1.000000    2.000000    1.000000    1.000000    2.000000    1.000000   \n",
      "50%      2.000000    3.000000    3.000000    2.000000    3.000000    3.000000   \n",
      "75%      4.000000    4.000000    4.000000    4.000000    4.000000    4.000000   \n",
      "max      4.000000    4.000000    4.000000    4.000000    4.000000    4.000000   \n",
      "\n",
      "            Atr53       Atr54       Class  \n",
      "count  170.000000  170.000000  170.000000  \n",
      "mean     2.241176    2.011765    0.494118  \n",
      "std      1.505634    1.667611    0.501442  \n",
      "min      0.000000    0.000000    0.000000  \n",
      "25%      1.000000    0.000000    0.000000  \n",
      "50%      2.000000    2.000000    0.000000  \n",
      "75%      4.000000    4.000000    1.000000  \n",
      "max      4.000000    4.000000    1.000000  \n",
      "\n",
      "[8 rows x 55 columns]\n",
      "Verificando valores nulos en el conjunto de datos:\n",
      "Atr1     0\n",
      "Atr2     0\n",
      "Atr3     0\n",
      "Atr4     0\n",
      "Atr5     0\n",
      "Atr6     0\n",
      "Atr7     0\n",
      "Atr8     0\n",
      "Atr9     0\n",
      "Atr10    0\n",
      "Atr11    0\n",
      "Atr12    0\n",
      "Atr13    0\n",
      "Atr14    0\n",
      "Atr15    0\n",
      "Atr16    0\n",
      "Atr17    0\n",
      "Atr18    0\n",
      "Atr19    0\n",
      "Atr20    0\n",
      "Atr21    0\n",
      "Atr22    0\n",
      "Atr23    0\n",
      "Atr24    0\n",
      "Atr25    0\n",
      "Atr26    0\n",
      "Atr27    0\n",
      "Atr28    0\n",
      "Atr29    0\n",
      "Atr30    0\n",
      "Atr31    0\n",
      "Atr32    0\n",
      "Atr33    0\n",
      "Atr34    0\n",
      "Atr35    0\n",
      "Atr36    0\n",
      "Atr37    0\n",
      "Atr38    0\n",
      "Atr39    0\n",
      "Atr40    0\n",
      "Atr41    0\n",
      "Atr42    0\n",
      "Atr43    0\n",
      "Atr44    0\n",
      "Atr45    0\n",
      "Atr46    0\n",
      "Atr47    0\n",
      "Atr48    0\n",
      "Atr49    0\n",
      "Atr50    0\n",
      "Atr51    0\n",
      "Atr52    0\n",
      "Atr53    0\n",
      "Atr54    0\n",
      "Class    0\n",
      "dtype: int64\n",
      "              precision    recall  f1-score   support\n",
      "\n",
      "           0       0.93      1.00      0.97        14\n",
      "           1       1.00      0.95      0.97        20\n",
      "\n",
      "    accuracy                           0.97        34\n",
      "   macro avg       0.97      0.97      0.97        34\n",
      "weighted avg       0.97      0.97      0.97        34\n",
      "\n",
      "[[14  0]\n",
      " [ 1 19]]\n"
     ]
    },
    {
     "name": "stderr",
     "output_type": "stream",
     "text": [
      "2024/10/20 23:45:07 WARNING mlflow.models.model: Model logged without a signature and input example. Please set `input_example` parameter when logging the model to auto infer the model signature.\n",
      "2024/10/20 23:45:07 INFO mlflow.tracking._tracking_service.client: 🏃 View run skittish-toad-935 at: http://localhost:8080/#/experiments/126551647513598786/runs/faf65a3b32ac47989db29e2c1312ccf8.\n",
      "2024/10/20 23:45:07 INFO mlflow.tracking._tracking_service.client: 🧪 View experiment at: http://localhost:8080/#/experiments/126551647513598786.\n"
     ]
    },
    {
     "name": "stdout",
     "output_type": "stream",
     "text": [
      "MLflow experiment completed. Check mlruns folder for results.\n"
     ]
    }
   ],
   "source": [
    "with mlflow.start_run() as run:\n",
    "    # Load the diabetes dataset.\n",
    "    X = data.drop('Class', axis=1)\n",
    "    y = data['Class']\n",
    "    X_train, X_test, y_train, y_test = train_test_split(\n",
    "        X, y, test_size=0.2, random_state=42\n",
    "    )\n",
    "\n",
    "    # Explorar datos\n",
    "    explore_data(data)\n",
    "\n",
    "    # Log data split information\n",
    "    mlflow.log_param(\"train_data_size\", len(X_train))\n",
    "    mlflow.log_param(\"test_data_size\", len(X_test))\n",
    "\n",
    "    # 2. Create a Pipeline for Preprocessing and Model Training\n",
    "    pipeline = Pipeline([\n",
    "        (\"scaler\", StandardScaler()),\n",
    "        (\"model\", LogisticRegression(C=0.1, max_iter=1000, penalty='l1', solver='saga'))\n",
    "    ])\n",
    "\n",
    "    # 3. Train the Model\n",
    "    pipeline.fit(X_train, y_train)\n",
    "\n",
    "    # 4. Evaluate the Model\n",
    "    y_pred = pipeline.predict(X_test)\n",
    "    accuracy = accuracy_score(y_test, y_pred)\n",
    "\n",
    "    # Log model performance metrics\n",
    "    mlflow.log_metric(\"accuracy\", accuracy)\n",
    "\n",
    "    # Generate and print classification report\n",
    "    report = classification_report(y_test, y_pred)\n",
    "    print(report)\n",
    "    mlflow.log_text(report, \"classification_report.txt\")  # Save report to artifacts\n",
    "\n",
    "    # Generate and print confusion matrix\n",
    "    cm = confusion_matrix(y_test, y_pred)\n",
    "    print(cm)\n",
    "    mlflow.log_text(str(cm), \"confusion_matrix.txt\")  # Save matrix to artifacts\n",
    "\n",
    "    # 5. Log Model with MLflow\n",
    "    mlflow.sklearn.log_model(pipeline, \"Divorce_Prediction_Model\")\n",
    "\n",
    "    # 6. Add any relevant tags or information\n",
    "    mlflow.set_tag(\"developer\", \"Team 11\")  # For example\n",
    "    mlflow.set_tag(\"model_type\", \"LogisticRegression\")\n",
    "\n",
    "print(\"MLflow experiment completed. Check mlruns folder for results.\")"
   ]
  },
  {
   "cell_type": "markdown",
   "metadata": {},
   "source": [
    "# Pipeline de todos los modelos\n",
    "\n",
    " - 1. Regresion logistica\n",
    "   2. Random Forest\n",
    "   3. PCA + Regresion logistica"
   ]
  },
  {
   "cell_type": "code",
   "execution_count": 9,
   "metadata": {},
   "outputs": [
    {
     "name": "stdout",
     "output_type": "stream",
     "text": [
      "{'C': [0.1, 1, 10, 10001, 0.1], 'penalty': ['l1', 'l2'], 'solver': ['liblinear', 'saga'], 'max_iter': [1000]}\n"
     ]
    },
    {
     "name": "stderr",
     "output_type": "stream",
     "text": [
      "2024/10/20 23:53:33 WARNING mlflow.models.model: Model logged without a signature and input example. Please set `input_example` parameter when logging the model to auto infer the model signature.\n",
      "2024/10/20 23:53:33 INFO mlflow.tracking._tracking_service.client: 🏃 View run Logistic Regression_Run_1_Params(0.1, 'l1', 'liblinear', 1000) at: http://localhost:8080/#/experiments/126551647513598786/runs/6f91b48a55d34fcd926c1a60df432166.\n",
      "2024/10/20 23:53:33 INFO mlflow.tracking._tracking_service.client: 🧪 View experiment at: http://localhost:8080/#/experiments/126551647513598786.\n"
     ]
    },
    {
     "name": "stdout",
     "output_type": "stream",
     "text": [
      "Modelo: Logistic Regression\n",
      "Accuracy: 0.9705882352941176\n",
      "Precision: 1.0\n",
      "Recall: 0.95\n",
      "F1-score: 0.9743589743589743\n"
     ]
    },
    {
     "name": "stderr",
     "output_type": "stream",
     "text": [
      "2024/10/20 23:53:37 WARNING mlflow.models.model: Model logged without a signature and input example. Please set `input_example` parameter when logging the model to auto infer the model signature.\n",
      "2024/10/20 23:53:37 INFO mlflow.tracking._tracking_service.client: 🏃 View run Logistic Regression_Run_2_Params(0.1, 'l1', 'saga', 1000) at: http://localhost:8080/#/experiments/126551647513598786/runs/f7ecc57abc75441a8835f76e6e2aa38b.\n",
      "2024/10/20 23:53:37 INFO mlflow.tracking._tracking_service.client: 🧪 View experiment at: http://localhost:8080/#/experiments/126551647513598786.\n"
     ]
    },
    {
     "name": "stdout",
     "output_type": "stream",
     "text": [
      "Modelo: Logistic Regression\n",
      "Accuracy: 0.9705882352941176\n",
      "Precision: 1.0\n",
      "Recall: 0.95\n",
      "F1-score: 0.9743589743589743\n"
     ]
    },
    {
     "name": "stderr",
     "output_type": "stream",
     "text": [
      "2024/10/20 23:53:41 WARNING mlflow.models.model: Model logged without a signature and input example. Please set `input_example` parameter when logging the model to auto infer the model signature.\n",
      "2024/10/20 23:53:41 INFO mlflow.tracking._tracking_service.client: 🏃 View run Logistic Regression_Run_3_Params(0.1, 'l2', 'liblinear', 1000) at: http://localhost:8080/#/experiments/126551647513598786/runs/ceb7032601dc443c9cc3727dec0665a6.\n",
      "2024/10/20 23:53:41 INFO mlflow.tracking._tracking_service.client: 🧪 View experiment at: http://localhost:8080/#/experiments/126551647513598786.\n"
     ]
    },
    {
     "name": "stdout",
     "output_type": "stream",
     "text": [
      "Modelo: Logistic Regression\n",
      "Accuracy: 0.9705882352941176\n",
      "Precision: 1.0\n",
      "Recall: 0.95\n",
      "F1-score: 0.9743589743589743\n"
     ]
    },
    {
     "name": "stderr",
     "output_type": "stream",
     "text": [
      "C:\\Users\\a.ockrassa.morales\\Documents\\Otto\\CosasOtto\\Python\\mlops\\Lib\\site-packages\\sklearn\\linear_model\\_sag.py:349: ConvergenceWarning: The max_iter was reached which means the coef_ did not converge\n",
      "  warnings.warn(\n",
      "2024/10/20 23:53:45 WARNING mlflow.models.model: Model logged without a signature and input example. Please set `input_example` parameter when logging the model to auto infer the model signature.\n",
      "2024/10/20 23:53:45 INFO mlflow.tracking._tracking_service.client: 🏃 View run Logistic Regression_Run_4_Params(0.1, 'l2', 'saga', 1000) at: http://localhost:8080/#/experiments/126551647513598786/runs/c5b7695713644fd5ace70c53865852ca.\n",
      "2024/10/20 23:53:45 INFO mlflow.tracking._tracking_service.client: 🧪 View experiment at: http://localhost:8080/#/experiments/126551647513598786.\n"
     ]
    },
    {
     "name": "stdout",
     "output_type": "stream",
     "text": [
      "Modelo: Logistic Regression\n",
      "Accuracy: 0.9705882352941176\n",
      "Precision: 1.0\n",
      "Recall: 0.95\n",
      "F1-score: 0.9743589743589743\n"
     ]
    },
    {
     "name": "stderr",
     "output_type": "stream",
     "text": [
      "2024/10/20 23:53:48 WARNING mlflow.models.model: Model logged without a signature and input example. Please set `input_example` parameter when logging the model to auto infer the model signature.\n",
      "2024/10/20 23:53:49 INFO mlflow.tracking._tracking_service.client: 🏃 View run Logistic Regression_Run_5_Params(1, 'l1', 'liblinear', 1000) at: http://localhost:8080/#/experiments/126551647513598786/runs/4e6e82cdf41b4a0d82257f1f36093db2.\n",
      "2024/10/20 23:53:49 INFO mlflow.tracking._tracking_service.client: 🧪 View experiment at: http://localhost:8080/#/experiments/126551647513598786.\n"
     ]
    },
    {
     "name": "stdout",
     "output_type": "stream",
     "text": [
      "Modelo: Logistic Regression\n",
      "Accuracy: 0.9705882352941176\n",
      "Precision: 1.0\n",
      "Recall: 0.95\n",
      "F1-score: 0.9743589743589743\n"
     ]
    },
    {
     "name": "stderr",
     "output_type": "stream",
     "text": [
      "C:\\Users\\a.ockrassa.morales\\Documents\\Otto\\CosasOtto\\Python\\mlops\\Lib\\site-packages\\sklearn\\linear_model\\_sag.py:349: ConvergenceWarning: The max_iter was reached which means the coef_ did not converge\n",
      "  warnings.warn(\n",
      "2024/10/20 23:53:52 WARNING mlflow.models.model: Model logged without a signature and input example. Please set `input_example` parameter when logging the model to auto infer the model signature.\n",
      "2024/10/20 23:53:53 INFO mlflow.tracking._tracking_service.client: 🏃 View run Logistic Regression_Run_6_Params(1, 'l1', 'saga', 1000) at: http://localhost:8080/#/experiments/126551647513598786/runs/702e3790516341409016ed1d92ee3ec7.\n",
      "2024/10/20 23:53:53 INFO mlflow.tracking._tracking_service.client: 🧪 View experiment at: http://localhost:8080/#/experiments/126551647513598786.\n"
     ]
    },
    {
     "name": "stdout",
     "output_type": "stream",
     "text": [
      "Modelo: Logistic Regression\n",
      "Accuracy: 0.9705882352941176\n",
      "Precision: 1.0\n",
      "Recall: 0.95\n",
      "F1-score: 0.9743589743589743\n"
     ]
    },
    {
     "name": "stderr",
     "output_type": "stream",
     "text": [
      "2024/10/20 23:53:56 WARNING mlflow.models.model: Model logged without a signature and input example. Please set `input_example` parameter when logging the model to auto infer the model signature.\n",
      "2024/10/20 23:53:56 INFO mlflow.tracking._tracking_service.client: 🏃 View run Logistic Regression_Run_7_Params(1, 'l2', 'liblinear', 1000) at: http://localhost:8080/#/experiments/126551647513598786/runs/f5b8c9cd351d407c89fce87d45888f2e.\n",
      "2024/10/20 23:53:56 INFO mlflow.tracking._tracking_service.client: 🧪 View experiment at: http://localhost:8080/#/experiments/126551647513598786.\n"
     ]
    },
    {
     "name": "stdout",
     "output_type": "stream",
     "text": [
      "Modelo: Logistic Regression\n",
      "Accuracy: 0.9705882352941176\n",
      "Precision: 1.0\n",
      "Recall: 0.95\n",
      "F1-score: 0.9743589743589743\n"
     ]
    },
    {
     "name": "stderr",
     "output_type": "stream",
     "text": [
      "C:\\Users\\a.ockrassa.morales\\Documents\\Otto\\CosasOtto\\Python\\mlops\\Lib\\site-packages\\sklearn\\linear_model\\_sag.py:349: ConvergenceWarning: The max_iter was reached which means the coef_ did not converge\n",
      "  warnings.warn(\n",
      "2024/10/20 23:54:00 WARNING mlflow.models.model: Model logged without a signature and input example. Please set `input_example` parameter when logging the model to auto infer the model signature.\n",
      "2024/10/20 23:54:00 INFO mlflow.tracking._tracking_service.client: 🏃 View run Logistic Regression_Run_8_Params(1, 'l2', 'saga', 1000) at: http://localhost:8080/#/experiments/126551647513598786/runs/91896681e8ac432a96b0c2e2ab404e03.\n",
      "2024/10/20 23:54:00 INFO mlflow.tracking._tracking_service.client: 🧪 View experiment at: http://localhost:8080/#/experiments/126551647513598786.\n"
     ]
    },
    {
     "name": "stdout",
     "output_type": "stream",
     "text": [
      "Modelo: Logistic Regression\n",
      "Accuracy: 0.9705882352941176\n",
      "Precision: 1.0\n",
      "Recall: 0.95\n",
      "F1-score: 0.9743589743589743\n"
     ]
    },
    {
     "name": "stderr",
     "output_type": "stream",
     "text": [
      "2024/10/20 23:54:04 WARNING mlflow.models.model: Model logged without a signature and input example. Please set `input_example` parameter when logging the model to auto infer the model signature.\n",
      "2024/10/20 23:54:04 INFO mlflow.tracking._tracking_service.client: 🏃 View run Logistic Regression_Run_9_Params(10, 'l1', 'liblinear', 1000) at: http://localhost:8080/#/experiments/126551647513598786/runs/ae9b5f4ac1714bf5bc722fa8e13f4b80.\n",
      "2024/10/20 23:54:04 INFO mlflow.tracking._tracking_service.client: 🧪 View experiment at: http://localhost:8080/#/experiments/126551647513598786.\n"
     ]
    },
    {
     "name": "stdout",
     "output_type": "stream",
     "text": [
      "Modelo: Logistic Regression\n",
      "Accuracy: 0.9705882352941176\n",
      "Precision: 1.0\n",
      "Recall: 0.95\n",
      "F1-score: 0.9743589743589743\n"
     ]
    },
    {
     "name": "stderr",
     "output_type": "stream",
     "text": [
      "C:\\Users\\a.ockrassa.morales\\Documents\\Otto\\CosasOtto\\Python\\mlops\\Lib\\site-packages\\sklearn\\linear_model\\_sag.py:349: ConvergenceWarning: The max_iter was reached which means the coef_ did not converge\n",
      "  warnings.warn(\n",
      "2024/10/20 23:54:08 WARNING mlflow.models.model: Model logged without a signature and input example. Please set `input_example` parameter when logging the model to auto infer the model signature.\n",
      "2024/10/20 23:54:08 INFO mlflow.tracking._tracking_service.client: 🏃 View run Logistic Regression_Run_10_Params(10, 'l1', 'saga', 1000) at: http://localhost:8080/#/experiments/126551647513598786/runs/6562228c210248e1bc1f638ce0888501.\n",
      "2024/10/20 23:54:08 INFO mlflow.tracking._tracking_service.client: 🧪 View experiment at: http://localhost:8080/#/experiments/126551647513598786.\n"
     ]
    },
    {
     "name": "stdout",
     "output_type": "stream",
     "text": [
      "Modelo: Logistic Regression\n",
      "Accuracy: 0.9705882352941176\n",
      "Precision: 1.0\n",
      "Recall: 0.95\n",
      "F1-score: 0.9743589743589743\n"
     ]
    },
    {
     "name": "stderr",
     "output_type": "stream",
     "text": [
      "2024/10/20 23:54:12 WARNING mlflow.models.model: Model logged without a signature and input example. Please set `input_example` parameter when logging the model to auto infer the model signature.\n",
      "2024/10/20 23:54:12 INFO mlflow.tracking._tracking_service.client: 🏃 View run Logistic Regression_Run_11_Params(10, 'l2', 'liblinear', 1000) at: http://localhost:8080/#/experiments/126551647513598786/runs/80eeeed80b2b4e219c11ab1735f472a3.\n",
      "2024/10/20 23:54:12 INFO mlflow.tracking._tracking_service.client: 🧪 View experiment at: http://localhost:8080/#/experiments/126551647513598786.\n"
     ]
    },
    {
     "name": "stdout",
     "output_type": "stream",
     "text": [
      "Modelo: Logistic Regression\n",
      "Accuracy: 0.9705882352941176\n",
      "Precision: 1.0\n",
      "Recall: 0.95\n",
      "F1-score: 0.9743589743589743\n"
     ]
    },
    {
     "name": "stderr",
     "output_type": "stream",
     "text": [
      "C:\\Users\\a.ockrassa.morales\\Documents\\Otto\\CosasOtto\\Python\\mlops\\Lib\\site-packages\\sklearn\\linear_model\\_sag.py:349: ConvergenceWarning: The max_iter was reached which means the coef_ did not converge\n",
      "  warnings.warn(\n",
      "2024/10/20 23:54:16 WARNING mlflow.models.model: Model logged without a signature and input example. Please set `input_example` parameter when logging the model to auto infer the model signature.\n",
      "2024/10/20 23:54:16 INFO mlflow.tracking._tracking_service.client: 🏃 View run Logistic Regression_Run_12_Params(10, 'l2', 'saga', 1000) at: http://localhost:8080/#/experiments/126551647513598786/runs/e7e65dbaa8d7475b97ec6fe9d6e7a51c.\n",
      "2024/10/20 23:54:16 INFO mlflow.tracking._tracking_service.client: 🧪 View experiment at: http://localhost:8080/#/experiments/126551647513598786.\n"
     ]
    },
    {
     "name": "stdout",
     "output_type": "stream",
     "text": [
      "Modelo: Logistic Regression\n",
      "Accuracy: 0.9705882352941176\n",
      "Precision: 1.0\n",
      "Recall: 0.95\n",
      "F1-score: 0.9743589743589743\n"
     ]
    },
    {
     "name": "stderr",
     "output_type": "stream",
     "text": [
      "2024/10/20 23:54:20 WARNING mlflow.models.model: Model logged without a signature and input example. Please set `input_example` parameter when logging the model to auto infer the model signature.\n",
      "2024/10/20 23:54:20 INFO mlflow.tracking._tracking_service.client: 🏃 View run Logistic Regression_Run_13_Params(10001, 'l1', 'liblinear', 1000) at: http://localhost:8080/#/experiments/126551647513598786/runs/6e1be7273a144bfea98077abe17fe211.\n",
      "2024/10/20 23:54:20 INFO mlflow.tracking._tracking_service.client: 🧪 View experiment at: http://localhost:8080/#/experiments/126551647513598786.\n"
     ]
    },
    {
     "name": "stdout",
     "output_type": "stream",
     "text": [
      "Modelo: Logistic Regression\n",
      "Accuracy: 0.9705882352941176\n",
      "Precision: 1.0\n",
      "Recall: 0.95\n",
      "F1-score: 0.9743589743589743\n"
     ]
    },
    {
     "name": "stderr",
     "output_type": "stream",
     "text": [
      "C:\\Users\\a.ockrassa.morales\\Documents\\Otto\\CosasOtto\\Python\\mlops\\Lib\\site-packages\\sklearn\\linear_model\\_sag.py:349: ConvergenceWarning: The max_iter was reached which means the coef_ did not converge\n",
      "  warnings.warn(\n",
      "2024/10/20 23:54:24 WARNING mlflow.models.model: Model logged without a signature and input example. Please set `input_example` parameter when logging the model to auto infer the model signature.\n",
      "2024/10/20 23:54:24 INFO mlflow.tracking._tracking_service.client: 🏃 View run Logistic Regression_Run_14_Params(10001, 'l1', 'saga', 1000) at: http://localhost:8080/#/experiments/126551647513598786/runs/8bf24cfdd0624fdca928473dd2eef889.\n",
      "2024/10/20 23:54:24 INFO mlflow.tracking._tracking_service.client: 🧪 View experiment at: http://localhost:8080/#/experiments/126551647513598786.\n"
     ]
    },
    {
     "name": "stdout",
     "output_type": "stream",
     "text": [
      "Modelo: Logistic Regression\n",
      "Accuracy: 0.9705882352941176\n",
      "Precision: 1.0\n",
      "Recall: 0.95\n",
      "F1-score: 0.9743589743589743\n"
     ]
    },
    {
     "name": "stderr",
     "output_type": "stream",
     "text": [
      "2024/10/20 23:54:28 WARNING mlflow.models.model: Model logged without a signature and input example. Please set `input_example` parameter when logging the model to auto infer the model signature.\n",
      "2024/10/20 23:54:28 INFO mlflow.tracking._tracking_service.client: 🏃 View run Logistic Regression_Run_15_Params(10001, 'l2', 'liblinear', 1000) at: http://localhost:8080/#/experiments/126551647513598786/runs/f96ec0d900e346ed96dcc53c6b454964.\n",
      "2024/10/20 23:54:28 INFO mlflow.tracking._tracking_service.client: 🧪 View experiment at: http://localhost:8080/#/experiments/126551647513598786.\n"
     ]
    },
    {
     "name": "stdout",
     "output_type": "stream",
     "text": [
      "Modelo: Logistic Regression\n",
      "Accuracy: 0.9705882352941176\n",
      "Precision: 1.0\n",
      "Recall: 0.95\n",
      "F1-score: 0.9743589743589743\n"
     ]
    },
    {
     "name": "stderr",
     "output_type": "stream",
     "text": [
      "C:\\Users\\a.ockrassa.morales\\Documents\\Otto\\CosasOtto\\Python\\mlops\\Lib\\site-packages\\sklearn\\linear_model\\_sag.py:349: ConvergenceWarning: The max_iter was reached which means the coef_ did not converge\n",
      "  warnings.warn(\n",
      "2024/10/20 23:54:32 WARNING mlflow.models.model: Model logged without a signature and input example. Please set `input_example` parameter when logging the model to auto infer the model signature.\n",
      "2024/10/20 23:54:32 INFO mlflow.tracking._tracking_service.client: 🏃 View run Logistic Regression_Run_16_Params(10001, 'l2', 'saga', 1000) at: http://localhost:8080/#/experiments/126551647513598786/runs/43b8d7b0ebf44f06a9cdf39be81ebc00.\n",
      "2024/10/20 23:54:32 INFO mlflow.tracking._tracking_service.client: 🧪 View experiment at: http://localhost:8080/#/experiments/126551647513598786.\n"
     ]
    },
    {
     "name": "stdout",
     "output_type": "stream",
     "text": [
      "Modelo: Logistic Regression\n",
      "Accuracy: 0.9705882352941176\n",
      "Precision: 1.0\n",
      "Recall: 0.95\n",
      "F1-score: 0.9743589743589743\n"
     ]
    },
    {
     "name": "stderr",
     "output_type": "stream",
     "text": [
      "2024/10/20 23:54:36 WARNING mlflow.models.model: Model logged without a signature and input example. Please set `input_example` parameter when logging the model to auto infer the model signature.\n",
      "2024/10/20 23:54:36 INFO mlflow.tracking._tracking_service.client: 🏃 View run Logistic Regression_Run_17_Params(0.1, 'l1', 'liblinear', 1000) at: http://localhost:8080/#/experiments/126551647513598786/runs/cab114beb6014ddbb2626782bf91ee56.\n",
      "2024/10/20 23:54:36 INFO mlflow.tracking._tracking_service.client: 🧪 View experiment at: http://localhost:8080/#/experiments/126551647513598786.\n"
     ]
    },
    {
     "name": "stdout",
     "output_type": "stream",
     "text": [
      "Modelo: Logistic Regression\n",
      "Accuracy: 0.9705882352941176\n",
      "Precision: 1.0\n",
      "Recall: 0.95\n",
      "F1-score: 0.9743589743589743\n"
     ]
    },
    {
     "name": "stderr",
     "output_type": "stream",
     "text": [
      "2024/10/20 23:54:40 WARNING mlflow.models.model: Model logged without a signature and input example. Please set `input_example` parameter when logging the model to auto infer the model signature.\n",
      "2024/10/20 23:54:40 INFO mlflow.tracking._tracking_service.client: 🏃 View run Logistic Regression_Run_18_Params(0.1, 'l1', 'saga', 1000) at: http://localhost:8080/#/experiments/126551647513598786/runs/29b5bf080fae4a22a3c570884d742148.\n",
      "2024/10/20 23:54:40 INFO mlflow.tracking._tracking_service.client: 🧪 View experiment at: http://localhost:8080/#/experiments/126551647513598786.\n"
     ]
    },
    {
     "name": "stdout",
     "output_type": "stream",
     "text": [
      "Modelo: Logistic Regression\n",
      "Accuracy: 0.9705882352941176\n",
      "Precision: 1.0\n",
      "Recall: 0.95\n",
      "F1-score: 0.9743589743589743\n"
     ]
    },
    {
     "name": "stderr",
     "output_type": "stream",
     "text": [
      "2024/10/20 23:54:44 WARNING mlflow.models.model: Model logged without a signature and input example. Please set `input_example` parameter when logging the model to auto infer the model signature.\n",
      "2024/10/20 23:54:44 INFO mlflow.tracking._tracking_service.client: 🏃 View run Logistic Regression_Run_19_Params(0.1, 'l2', 'liblinear', 1000) at: http://localhost:8080/#/experiments/126551647513598786/runs/b5d51cfdfae14f9a9e0f1a62f040e453.\n",
      "2024/10/20 23:54:44 INFO mlflow.tracking._tracking_service.client: 🧪 View experiment at: http://localhost:8080/#/experiments/126551647513598786.\n"
     ]
    },
    {
     "name": "stdout",
     "output_type": "stream",
     "text": [
      "Modelo: Logistic Regression\n",
      "Accuracy: 0.9705882352941176\n",
      "Precision: 1.0\n",
      "Recall: 0.95\n",
      "F1-score: 0.9743589743589743\n"
     ]
    },
    {
     "name": "stderr",
     "output_type": "stream",
     "text": [
      "C:\\Users\\a.ockrassa.morales\\Documents\\Otto\\CosasOtto\\Python\\mlops\\Lib\\site-packages\\sklearn\\linear_model\\_sag.py:349: ConvergenceWarning: The max_iter was reached which means the coef_ did not converge\n",
      "  warnings.warn(\n",
      "2024/10/20 23:54:48 WARNING mlflow.models.model: Model logged without a signature and input example. Please set `input_example` parameter when logging the model to auto infer the model signature.\n",
      "2024/10/20 23:54:48 INFO mlflow.tracking._tracking_service.client: 🏃 View run Logistic Regression_Run_20_Params(0.1, 'l2', 'saga', 1000) at: http://localhost:8080/#/experiments/126551647513598786/runs/99e19347228d43a3a1af7cafa59ec567.\n",
      "2024/10/20 23:54:48 INFO mlflow.tracking._tracking_service.client: 🧪 View experiment at: http://localhost:8080/#/experiments/126551647513598786.\n"
     ]
    },
    {
     "name": "stdout",
     "output_type": "stream",
     "text": [
      "Modelo: Logistic Regression\n",
      "Accuracy: 0.9705882352941176\n",
      "Precision: 1.0\n",
      "Recall: 0.95\n",
      "F1-score: 0.9743589743589743\n",
      "{'n_estimators': [100], 'max_depth': [None, 5, 10], 'min_samples_split': [2, 5, 10], 'min_samples_leaf': [1, 2, 4]}\n"
     ]
    },
    {
     "name": "stderr",
     "output_type": "stream",
     "text": [
      "2024/10/20 23:54:52 WARNING mlflow.models.model: Model logged without a signature and input example. Please set `input_example` parameter when logging the model to auto infer the model signature.\n",
      "2024/10/20 23:54:53 INFO mlflow.tracking._tracking_service.client: 🏃 View run Random Forest_Run_1_Params(100, None, 2, 1) at: http://localhost:8080/#/experiments/126551647513598786/runs/bb51c7cfbb684beaabb742afcc0f9c75.\n",
      "2024/10/20 23:54:53 INFO mlflow.tracking._tracking_service.client: 🧪 View experiment at: http://localhost:8080/#/experiments/126551647513598786.\n"
     ]
    },
    {
     "name": "stdout",
     "output_type": "stream",
     "text": [
      "Modelo: Random Forest\n",
      "Accuracy: 0.9705882352941176\n",
      "Precision: 1.0\n",
      "Recall: 0.95\n",
      "F1-score: 0.9743589743589743\n"
     ]
    },
    {
     "name": "stderr",
     "output_type": "stream",
     "text": [
      "2024/10/20 23:54:56 WARNING mlflow.models.model: Model logged without a signature and input example. Please set `input_example` parameter when logging the model to auto infer the model signature.\n",
      "2024/10/20 23:54:57 INFO mlflow.tracking._tracking_service.client: 🏃 View run Random Forest_Run_2_Params(100, None, 2, 2) at: http://localhost:8080/#/experiments/126551647513598786/runs/442f38c0960847d49499010eb2e70a26.\n",
      "2024/10/20 23:54:57 INFO mlflow.tracking._tracking_service.client: 🧪 View experiment at: http://localhost:8080/#/experiments/126551647513598786.\n"
     ]
    },
    {
     "name": "stdout",
     "output_type": "stream",
     "text": [
      "Modelo: Random Forest\n",
      "Accuracy: 0.9705882352941176\n",
      "Precision: 1.0\n",
      "Recall: 0.95\n",
      "F1-score: 0.9743589743589743\n"
     ]
    },
    {
     "name": "stderr",
     "output_type": "stream",
     "text": [
      "2024/10/20 23:55:01 WARNING mlflow.models.model: Model logged without a signature and input example. Please set `input_example` parameter when logging the model to auto infer the model signature.\n",
      "2024/10/20 23:55:01 INFO mlflow.tracking._tracking_service.client: 🏃 View run Random Forest_Run_3_Params(100, None, 2, 4) at: http://localhost:8080/#/experiments/126551647513598786/runs/ef99560df9a14d1791afbbdb8a83254a.\n",
      "2024/10/20 23:55:01 INFO mlflow.tracking._tracking_service.client: 🧪 View experiment at: http://localhost:8080/#/experiments/126551647513598786.\n"
     ]
    },
    {
     "name": "stdout",
     "output_type": "stream",
     "text": [
      "Modelo: Random Forest\n",
      "Accuracy: 0.9705882352941176\n",
      "Precision: 1.0\n",
      "Recall: 0.95\n",
      "F1-score: 0.9743589743589743\n"
     ]
    },
    {
     "name": "stderr",
     "output_type": "stream",
     "text": [
      "2024/10/20 23:55:05 WARNING mlflow.models.model: Model logged without a signature and input example. Please set `input_example` parameter when logging the model to auto infer the model signature.\n",
      "2024/10/20 23:55:05 INFO mlflow.tracking._tracking_service.client: 🏃 View run Random Forest_Run_4_Params(100, None, 5, 1) at: http://localhost:8080/#/experiments/126551647513598786/runs/e7471d0f2a804cc19482c5caac0790f2.\n",
      "2024/10/20 23:55:05 INFO mlflow.tracking._tracking_service.client: 🧪 View experiment at: http://localhost:8080/#/experiments/126551647513598786.\n"
     ]
    },
    {
     "name": "stdout",
     "output_type": "stream",
     "text": [
      "Modelo: Random Forest\n",
      "Accuracy: 0.9705882352941176\n",
      "Precision: 1.0\n",
      "Recall: 0.95\n",
      "F1-score: 0.9743589743589743\n"
     ]
    },
    {
     "name": "stderr",
     "output_type": "stream",
     "text": [
      "2024/10/20 23:55:09 WARNING mlflow.models.model: Model logged without a signature and input example. Please set `input_example` parameter when logging the model to auto infer the model signature.\n",
      "2024/10/20 23:55:09 INFO mlflow.tracking._tracking_service.client: 🏃 View run Random Forest_Run_5_Params(100, None, 5, 2) at: http://localhost:8080/#/experiments/126551647513598786/runs/42b12e63be3b4581992927bb65e68787.\n",
      "2024/10/20 23:55:09 INFO mlflow.tracking._tracking_service.client: 🧪 View experiment at: http://localhost:8080/#/experiments/126551647513598786.\n"
     ]
    },
    {
     "name": "stdout",
     "output_type": "stream",
     "text": [
      "Modelo: Random Forest\n",
      "Accuracy: 0.9705882352941176\n",
      "Precision: 1.0\n",
      "Recall: 0.95\n",
      "F1-score: 0.9743589743589743\n"
     ]
    },
    {
     "name": "stderr",
     "output_type": "stream",
     "text": [
      "2024/10/20 23:55:13 WARNING mlflow.models.model: Model logged without a signature and input example. Please set `input_example` parameter when logging the model to auto infer the model signature.\n",
      "2024/10/20 23:55:13 INFO mlflow.tracking._tracking_service.client: 🏃 View run Random Forest_Run_6_Params(100, None, 5, 4) at: http://localhost:8080/#/experiments/126551647513598786/runs/66199bc686f2402c98220ab537964794.\n",
      "2024/10/20 23:55:13 INFO mlflow.tracking._tracking_service.client: 🧪 View experiment at: http://localhost:8080/#/experiments/126551647513598786.\n"
     ]
    },
    {
     "name": "stdout",
     "output_type": "stream",
     "text": [
      "Modelo: Random Forest\n",
      "Accuracy: 0.9705882352941176\n",
      "Precision: 1.0\n",
      "Recall: 0.95\n",
      "F1-score: 0.9743589743589743\n"
     ]
    },
    {
     "name": "stderr",
     "output_type": "stream",
     "text": [
      "2024/10/20 23:55:17 WARNING mlflow.models.model: Model logged without a signature and input example. Please set `input_example` parameter when logging the model to auto infer the model signature.\n",
      "2024/10/20 23:55:17 INFO mlflow.tracking._tracking_service.client: 🏃 View run Random Forest_Run_7_Params(100, None, 10, 1) at: http://localhost:8080/#/experiments/126551647513598786/runs/39e89a333a934269890551881b0d869d.\n",
      "2024/10/20 23:55:17 INFO mlflow.tracking._tracking_service.client: 🧪 View experiment at: http://localhost:8080/#/experiments/126551647513598786.\n"
     ]
    },
    {
     "name": "stdout",
     "output_type": "stream",
     "text": [
      "Modelo: Random Forest\n",
      "Accuracy: 0.9705882352941176\n",
      "Precision: 1.0\n",
      "Recall: 0.95\n",
      "F1-score: 0.9743589743589743\n"
     ]
    },
    {
     "name": "stderr",
     "output_type": "stream",
     "text": [
      "2024/10/20 23:55:21 WARNING mlflow.models.model: Model logged without a signature and input example. Please set `input_example` parameter when logging the model to auto infer the model signature.\n",
      "2024/10/20 23:55:22 INFO mlflow.tracking._tracking_service.client: 🏃 View run Random Forest_Run_8_Params(100, None, 10, 2) at: http://localhost:8080/#/experiments/126551647513598786/runs/6a12f05aedb74cd9bd361b04f58ecc98.\n",
      "2024/10/20 23:55:22 INFO mlflow.tracking._tracking_service.client: 🧪 View experiment at: http://localhost:8080/#/experiments/126551647513598786.\n"
     ]
    },
    {
     "name": "stdout",
     "output_type": "stream",
     "text": [
      "Modelo: Random Forest\n",
      "Accuracy: 0.9705882352941176\n",
      "Precision: 1.0\n",
      "Recall: 0.95\n",
      "F1-score: 0.9743589743589743\n"
     ]
    },
    {
     "name": "stderr",
     "output_type": "stream",
     "text": [
      "2024/10/20 23:55:25 WARNING mlflow.models.model: Model logged without a signature and input example. Please set `input_example` parameter when logging the model to auto infer the model signature.\n",
      "2024/10/20 23:55:26 INFO mlflow.tracking._tracking_service.client: 🏃 View run Random Forest_Run_9_Params(100, None, 10, 4) at: http://localhost:8080/#/experiments/126551647513598786/runs/93e1a6d227ce419a8348ee20d18a8cf6.\n",
      "2024/10/20 23:55:26 INFO mlflow.tracking._tracking_service.client: 🧪 View experiment at: http://localhost:8080/#/experiments/126551647513598786.\n"
     ]
    },
    {
     "name": "stdout",
     "output_type": "stream",
     "text": [
      "Modelo: Random Forest\n",
      "Accuracy: 0.9705882352941176\n",
      "Precision: 1.0\n",
      "Recall: 0.95\n",
      "F1-score: 0.9743589743589743\n"
     ]
    },
    {
     "name": "stderr",
     "output_type": "stream",
     "text": [
      "2024/10/20 23:55:30 WARNING mlflow.models.model: Model logged without a signature and input example. Please set `input_example` parameter when logging the model to auto infer the model signature.\n",
      "2024/10/20 23:55:30 INFO mlflow.tracking._tracking_service.client: 🏃 View run Random Forest_Run_10_Params(100, 5, 2, 1) at: http://localhost:8080/#/experiments/126551647513598786/runs/3733fd7db4154e41baaea31a7f01e78f.\n",
      "2024/10/20 23:55:30 INFO mlflow.tracking._tracking_service.client: 🧪 View experiment at: http://localhost:8080/#/experiments/126551647513598786.\n"
     ]
    },
    {
     "name": "stdout",
     "output_type": "stream",
     "text": [
      "Modelo: Random Forest\n",
      "Accuracy: 0.9705882352941176\n",
      "Precision: 1.0\n",
      "Recall: 0.95\n",
      "F1-score: 0.9743589743589743\n"
     ]
    },
    {
     "name": "stderr",
     "output_type": "stream",
     "text": [
      "2024/10/20 23:55:34 WARNING mlflow.models.model: Model logged without a signature and input example. Please set `input_example` parameter when logging the model to auto infer the model signature.\n",
      "2024/10/20 23:55:34 INFO mlflow.tracking._tracking_service.client: 🏃 View run Random Forest_Run_11_Params(100, 5, 2, 2) at: http://localhost:8080/#/experiments/126551647513598786/runs/2fbefb2367904c17a5f6fa1b1a5e725a.\n",
      "2024/10/20 23:55:34 INFO mlflow.tracking._tracking_service.client: 🧪 View experiment at: http://localhost:8080/#/experiments/126551647513598786.\n"
     ]
    },
    {
     "name": "stdout",
     "output_type": "stream",
     "text": [
      "Modelo: Random Forest\n",
      "Accuracy: 0.9705882352941176\n",
      "Precision: 1.0\n",
      "Recall: 0.95\n",
      "F1-score: 0.9743589743589743\n"
     ]
    },
    {
     "name": "stderr",
     "output_type": "stream",
     "text": [
      "2024/10/20 23:55:38 WARNING mlflow.models.model: Model logged without a signature and input example. Please set `input_example` parameter when logging the model to auto infer the model signature.\n",
      "2024/10/20 23:55:38 INFO mlflow.tracking._tracking_service.client: 🏃 View run Random Forest_Run_12_Params(100, 5, 2, 4) at: http://localhost:8080/#/experiments/126551647513598786/runs/422f3639906e4609864d0a454782db45.\n",
      "2024/10/20 23:55:38 INFO mlflow.tracking._tracking_service.client: 🧪 View experiment at: http://localhost:8080/#/experiments/126551647513598786.\n"
     ]
    },
    {
     "name": "stdout",
     "output_type": "stream",
     "text": [
      "Modelo: Random Forest\n",
      "Accuracy: 0.9705882352941176\n",
      "Precision: 1.0\n",
      "Recall: 0.95\n",
      "F1-score: 0.9743589743589743\n"
     ]
    },
    {
     "name": "stderr",
     "output_type": "stream",
     "text": [
      "2024/10/20 23:55:42 WARNING mlflow.models.model: Model logged without a signature and input example. Please set `input_example` parameter when logging the model to auto infer the model signature.\n",
      "2024/10/20 23:55:42 INFO mlflow.tracking._tracking_service.client: 🏃 View run Random Forest_Run_13_Params(100, 5, 5, 1) at: http://localhost:8080/#/experiments/126551647513598786/runs/08f4b3d88a9b405bbf2403c80455210d.\n",
      "2024/10/20 23:55:42 INFO mlflow.tracking._tracking_service.client: 🧪 View experiment at: http://localhost:8080/#/experiments/126551647513598786.\n"
     ]
    },
    {
     "name": "stdout",
     "output_type": "stream",
     "text": [
      "Modelo: Random Forest\n",
      "Accuracy: 0.9705882352941176\n",
      "Precision: 1.0\n",
      "Recall: 0.95\n",
      "F1-score: 0.9743589743589743\n"
     ]
    },
    {
     "name": "stderr",
     "output_type": "stream",
     "text": [
      "2024/10/20 23:55:46 WARNING mlflow.models.model: Model logged without a signature and input example. Please set `input_example` parameter when logging the model to auto infer the model signature.\n",
      "2024/10/20 23:55:47 INFO mlflow.tracking._tracking_service.client: 🏃 View run Random Forest_Run_14_Params(100, 5, 5, 2) at: http://localhost:8080/#/experiments/126551647513598786/runs/e8a07830312742809243c80ed0a8e258.\n",
      "2024/10/20 23:55:47 INFO mlflow.tracking._tracking_service.client: 🧪 View experiment at: http://localhost:8080/#/experiments/126551647513598786.\n"
     ]
    },
    {
     "name": "stdout",
     "output_type": "stream",
     "text": [
      "Modelo: Random Forest\n",
      "Accuracy: 0.9705882352941176\n",
      "Precision: 1.0\n",
      "Recall: 0.95\n",
      "F1-score: 0.9743589743589743\n"
     ]
    },
    {
     "name": "stderr",
     "output_type": "stream",
     "text": [
      "2024/10/20 23:55:50 WARNING mlflow.models.model: Model logged without a signature and input example. Please set `input_example` parameter when logging the model to auto infer the model signature.\n",
      "2024/10/20 23:55:51 INFO mlflow.tracking._tracking_service.client: 🏃 View run Random Forest_Run_15_Params(100, 5, 5, 4) at: http://localhost:8080/#/experiments/126551647513598786/runs/c1836c1ead8d4de69f1c51a9f02a42b4.\n",
      "2024/10/20 23:55:51 INFO mlflow.tracking._tracking_service.client: 🧪 View experiment at: http://localhost:8080/#/experiments/126551647513598786.\n"
     ]
    },
    {
     "name": "stdout",
     "output_type": "stream",
     "text": [
      "Modelo: Random Forest\n",
      "Accuracy: 0.9705882352941176\n",
      "Precision: 1.0\n",
      "Recall: 0.95\n",
      "F1-score: 0.9743589743589743\n"
     ]
    },
    {
     "name": "stderr",
     "output_type": "stream",
     "text": [
      "2024/10/20 23:55:55 WARNING mlflow.models.model: Model logged without a signature and input example. Please set `input_example` parameter when logging the model to auto infer the model signature.\n",
      "2024/10/20 23:55:55 INFO mlflow.tracking._tracking_service.client: 🏃 View run Random Forest_Run_16_Params(100, 5, 10, 1) at: http://localhost:8080/#/experiments/126551647513598786/runs/a6e84327e7404fb3b496f9cccedd621a.\n",
      "2024/10/20 23:55:55 INFO mlflow.tracking._tracking_service.client: 🧪 View experiment at: http://localhost:8080/#/experiments/126551647513598786.\n"
     ]
    },
    {
     "name": "stdout",
     "output_type": "stream",
     "text": [
      "Modelo: Random Forest\n",
      "Accuracy: 0.9705882352941176\n",
      "Precision: 1.0\n",
      "Recall: 0.95\n",
      "F1-score: 0.9743589743589743\n"
     ]
    },
    {
     "name": "stderr",
     "output_type": "stream",
     "text": [
      "2024/10/20 23:55:59 WARNING mlflow.models.model: Model logged without a signature and input example. Please set `input_example` parameter when logging the model to auto infer the model signature.\n",
      "2024/10/20 23:55:59 INFO mlflow.tracking._tracking_service.client: 🏃 View run Random Forest_Run_17_Params(100, 5, 10, 2) at: http://localhost:8080/#/experiments/126551647513598786/runs/377e9226a4bb437985b4adc4cefd1abe.\n",
      "2024/10/20 23:55:59 INFO mlflow.tracking._tracking_service.client: 🧪 View experiment at: http://localhost:8080/#/experiments/126551647513598786.\n"
     ]
    },
    {
     "name": "stdout",
     "output_type": "stream",
     "text": [
      "Modelo: Random Forest\n",
      "Accuracy: 0.9705882352941176\n",
      "Precision: 1.0\n",
      "Recall: 0.95\n",
      "F1-score: 0.9743589743589743\n"
     ]
    },
    {
     "name": "stderr",
     "output_type": "stream",
     "text": [
      "2024/10/20 23:56:03 WARNING mlflow.models.model: Model logged without a signature and input example. Please set `input_example` parameter when logging the model to auto infer the model signature.\n",
      "2024/10/20 23:56:03 INFO mlflow.tracking._tracking_service.client: 🏃 View run Random Forest_Run_18_Params(100, 5, 10, 4) at: http://localhost:8080/#/experiments/126551647513598786/runs/05818dff28fc4101a82390dc49f0568e.\n",
      "2024/10/20 23:56:03 INFO mlflow.tracking._tracking_service.client: 🧪 View experiment at: http://localhost:8080/#/experiments/126551647513598786.\n"
     ]
    },
    {
     "name": "stdout",
     "output_type": "stream",
     "text": [
      "Modelo: Random Forest\n",
      "Accuracy: 0.9705882352941176\n",
      "Precision: 1.0\n",
      "Recall: 0.95\n",
      "F1-score: 0.9743589743589743\n"
     ]
    },
    {
     "name": "stderr",
     "output_type": "stream",
     "text": [
      "2024/10/20 23:56:08 WARNING mlflow.models.model: Model logged without a signature and input example. Please set `input_example` parameter when logging the model to auto infer the model signature.\n",
      "2024/10/20 23:56:08 INFO mlflow.tracking._tracking_service.client: 🏃 View run Random Forest_Run_19_Params(100, 10, 2, 1) at: http://localhost:8080/#/experiments/126551647513598786/runs/7abc70081e2c455eadbbde618eb6d179.\n",
      "2024/10/20 23:56:08 INFO mlflow.tracking._tracking_service.client: 🧪 View experiment at: http://localhost:8080/#/experiments/126551647513598786.\n"
     ]
    },
    {
     "name": "stdout",
     "output_type": "stream",
     "text": [
      "Modelo: Random Forest\n",
      "Accuracy: 0.9705882352941176\n",
      "Precision: 1.0\n",
      "Recall: 0.95\n",
      "F1-score: 0.9743589743589743\n"
     ]
    },
    {
     "name": "stderr",
     "output_type": "stream",
     "text": [
      "2024/10/20 23:56:12 WARNING mlflow.models.model: Model logged without a signature and input example. Please set `input_example` parameter when logging the model to auto infer the model signature.\n",
      "2024/10/20 23:56:12 INFO mlflow.tracking._tracking_service.client: 🏃 View run Random Forest_Run_20_Params(100, 10, 2, 2) at: http://localhost:8080/#/experiments/126551647513598786/runs/a07e1399180f430495adf37e21de080b.\n",
      "2024/10/20 23:56:12 INFO mlflow.tracking._tracking_service.client: 🧪 View experiment at: http://localhost:8080/#/experiments/126551647513598786.\n"
     ]
    },
    {
     "name": "stdout",
     "output_type": "stream",
     "text": [
      "Modelo: Random Forest\n",
      "Accuracy: 0.9705882352941176\n",
      "Precision: 1.0\n",
      "Recall: 0.95\n",
      "F1-score: 0.9743589743589743\n"
     ]
    },
    {
     "name": "stderr",
     "output_type": "stream",
     "text": [
      "2024/10/20 23:56:17 WARNING mlflow.models.model: Model logged without a signature and input example. Please set `input_example` parameter when logging the model to auto infer the model signature.\n",
      "2024/10/20 23:56:17 INFO mlflow.tracking._tracking_service.client: 🏃 View run Random Forest_Run_21_Params(100, 10, 2, 4) at: http://localhost:8080/#/experiments/126551647513598786/runs/e2bf706586ec4b0b958290df6b5b9569.\n",
      "2024/10/20 23:56:17 INFO mlflow.tracking._tracking_service.client: 🧪 View experiment at: http://localhost:8080/#/experiments/126551647513598786.\n"
     ]
    },
    {
     "name": "stdout",
     "output_type": "stream",
     "text": [
      "Modelo: Random Forest\n",
      "Accuracy: 0.9705882352941176\n",
      "Precision: 1.0\n",
      "Recall: 0.95\n",
      "F1-score: 0.9743589743589743\n"
     ]
    },
    {
     "name": "stderr",
     "output_type": "stream",
     "text": [
      "2024/10/20 23:56:21 WARNING mlflow.models.model: Model logged without a signature and input example. Please set `input_example` parameter when logging the model to auto infer the model signature.\n",
      "2024/10/20 23:56:22 INFO mlflow.tracking._tracking_service.client: 🏃 View run Random Forest_Run_22_Params(100, 10, 5, 1) at: http://localhost:8080/#/experiments/126551647513598786/runs/60383f91fa714414a4105c496a205d75.\n",
      "2024/10/20 23:56:22 INFO mlflow.tracking._tracking_service.client: 🧪 View experiment at: http://localhost:8080/#/experiments/126551647513598786.\n"
     ]
    },
    {
     "name": "stdout",
     "output_type": "stream",
     "text": [
      "Modelo: Random Forest\n",
      "Accuracy: 0.9705882352941176\n",
      "Precision: 1.0\n",
      "Recall: 0.95\n",
      "F1-score: 0.9743589743589743\n"
     ]
    },
    {
     "name": "stderr",
     "output_type": "stream",
     "text": [
      "2024/10/20 23:56:26 WARNING mlflow.models.model: Model logged without a signature and input example. Please set `input_example` parameter when logging the model to auto infer the model signature.\n",
      "2024/10/20 23:56:26 INFO mlflow.tracking._tracking_service.client: 🏃 View run Random Forest_Run_23_Params(100, 10, 5, 2) at: http://localhost:8080/#/experiments/126551647513598786/runs/7cff0c4ac446457c9dc4c2fe0accbd65.\n",
      "2024/10/20 23:56:26 INFO mlflow.tracking._tracking_service.client: 🧪 View experiment at: http://localhost:8080/#/experiments/126551647513598786.\n"
     ]
    },
    {
     "name": "stdout",
     "output_type": "stream",
     "text": [
      "Modelo: Random Forest\n",
      "Accuracy: 0.9705882352941176\n",
      "Precision: 1.0\n",
      "Recall: 0.95\n",
      "F1-score: 0.9743589743589743\n"
     ]
    },
    {
     "name": "stderr",
     "output_type": "stream",
     "text": [
      "2024/10/20 23:56:30 WARNING mlflow.models.model: Model logged without a signature and input example. Please set `input_example` parameter when logging the model to auto infer the model signature.\n",
      "2024/10/20 23:56:30 INFO mlflow.tracking._tracking_service.client: 🏃 View run Random Forest_Run_24_Params(100, 10, 5, 4) at: http://localhost:8080/#/experiments/126551647513598786/runs/cce812d6e0464bccb693eda1bba69051.\n",
      "2024/10/20 23:56:30 INFO mlflow.tracking._tracking_service.client: 🧪 View experiment at: http://localhost:8080/#/experiments/126551647513598786.\n"
     ]
    },
    {
     "name": "stdout",
     "output_type": "stream",
     "text": [
      "Modelo: Random Forest\n",
      "Accuracy: 0.9705882352941176\n",
      "Precision: 1.0\n",
      "Recall: 0.95\n",
      "F1-score: 0.9743589743589743\n"
     ]
    },
    {
     "name": "stderr",
     "output_type": "stream",
     "text": [
      "2024/10/20 23:56:34 WARNING mlflow.models.model: Model logged without a signature and input example. Please set `input_example` parameter when logging the model to auto infer the model signature.\n",
      "2024/10/20 23:56:34 INFO mlflow.tracking._tracking_service.client: 🏃 View run Random Forest_Run_25_Params(100, 10, 10, 1) at: http://localhost:8080/#/experiments/126551647513598786/runs/44b7e43b62da4f4c9311742cc28eb33b.\n",
      "2024/10/20 23:56:34 INFO mlflow.tracking._tracking_service.client: 🧪 View experiment at: http://localhost:8080/#/experiments/126551647513598786.\n"
     ]
    },
    {
     "name": "stdout",
     "output_type": "stream",
     "text": [
      "Modelo: Random Forest\n",
      "Accuracy: 0.9705882352941176\n",
      "Precision: 1.0\n",
      "Recall: 0.95\n",
      "F1-score: 0.9743589743589743\n"
     ]
    },
    {
     "name": "stderr",
     "output_type": "stream",
     "text": [
      "2024/10/20 23:56:38 WARNING mlflow.models.model: Model logged without a signature and input example. Please set `input_example` parameter when logging the model to auto infer the model signature.\n",
      "2024/10/20 23:56:39 INFO mlflow.tracking._tracking_service.client: 🏃 View run Random Forest_Run_26_Params(100, 10, 10, 2) at: http://localhost:8080/#/experiments/126551647513598786/runs/15eb5010647c4a38bcd3076c25450f84.\n",
      "2024/10/20 23:56:39 INFO mlflow.tracking._tracking_service.client: 🧪 View experiment at: http://localhost:8080/#/experiments/126551647513598786.\n"
     ]
    },
    {
     "name": "stdout",
     "output_type": "stream",
     "text": [
      "Modelo: Random Forest\n",
      "Accuracy: 0.9705882352941176\n",
      "Precision: 1.0\n",
      "Recall: 0.95\n",
      "F1-score: 0.9743589743589743\n"
     ]
    },
    {
     "name": "stderr",
     "output_type": "stream",
     "text": [
      "2024/10/20 23:56:42 WARNING mlflow.models.model: Model logged without a signature and input example. Please set `input_example` parameter when logging the model to auto infer the model signature.\n",
      "2024/10/20 23:56:43 INFO mlflow.tracking._tracking_service.client: 🏃 View run Random Forest_Run_27_Params(100, 10, 10, 4) at: http://localhost:8080/#/experiments/126551647513598786/runs/c438b2e22ee645f39452af1692eeab5c.\n",
      "2024/10/20 23:56:43 INFO mlflow.tracking._tracking_service.client: 🧪 View experiment at: http://localhost:8080/#/experiments/126551647513598786.\n"
     ]
    },
    {
     "name": "stdout",
     "output_type": "stream",
     "text": [
      "Modelo: Random Forest\n",
      "Accuracy: 0.9705882352941176\n",
      "Precision: 1.0\n",
      "Recall: 0.95\n",
      "F1-score: 0.9743589743589743\n",
      "{'C': [0.01, 0.1, 1, 10, 100], 'penalty': ['l1', 'l2'], 'solver': ['liblinear', 'saga'], 'max_iter': [1000]}\n"
     ]
    },
    {
     "name": "stderr",
     "output_type": "stream",
     "text": [
      "2024/10/20 23:56:46 WARNING mlflow.models.model: Model logged without a signature and input example. Please set `input_example` parameter when logging the model to auto infer the model signature.\n",
      "2024/10/20 23:56:47 INFO mlflow.tracking._tracking_service.client: 🏃 View run PCA + Logistic Regression_Run_1_Params(0.01, 'l1', 'liblinear', 1000) at: http://localhost:8080/#/experiments/126551647513598786/runs/3ec67bbf520d437d8790c6de5bcbad2f.\n",
      "2024/10/20 23:56:47 INFO mlflow.tracking._tracking_service.client: 🧪 View experiment at: http://localhost:8080/#/experiments/126551647513598786.\n"
     ]
    },
    {
     "name": "stdout",
     "output_type": "stream",
     "text": [
      "Modelo: PCA + Logistic Regression\n",
      "Accuracy: 0.9705882352941176\n",
      "Precision: 1.0\n",
      "Recall: 0.95\n",
      "F1-score: 0.9743589743589743\n"
     ]
    },
    {
     "name": "stderr",
     "output_type": "stream",
     "text": [
      "2024/10/20 23:56:50 WARNING mlflow.models.model: Model logged without a signature and input example. Please set `input_example` parameter when logging the model to auto infer the model signature.\n",
      "2024/10/20 23:56:51 INFO mlflow.tracking._tracking_service.client: 🏃 View run PCA + Logistic Regression_Run_2_Params(0.01, 'l1', 'saga', 1000) at: http://localhost:8080/#/experiments/126551647513598786/runs/169efd33d89046e1989046c2f44a48ab.\n",
      "2024/10/20 23:56:51 INFO mlflow.tracking._tracking_service.client: 🧪 View experiment at: http://localhost:8080/#/experiments/126551647513598786.\n"
     ]
    },
    {
     "name": "stdout",
     "output_type": "stream",
     "text": [
      "Modelo: PCA + Logistic Regression\n",
      "Accuracy: 0.9705882352941176\n",
      "Precision: 1.0\n",
      "Recall: 0.95\n",
      "F1-score: 0.9743589743589743\n"
     ]
    },
    {
     "name": "stderr",
     "output_type": "stream",
     "text": [
      "2024/10/20 23:56:54 WARNING mlflow.models.model: Model logged without a signature and input example. Please set `input_example` parameter when logging the model to auto infer the model signature.\n",
      "2024/10/20 23:56:55 INFO mlflow.tracking._tracking_service.client: 🏃 View run PCA + Logistic Regression_Run_3_Params(0.01, 'l2', 'liblinear', 1000) at: http://localhost:8080/#/experiments/126551647513598786/runs/83857a459e914a5783fbdce91a7df87a.\n",
      "2024/10/20 23:56:55 INFO mlflow.tracking._tracking_service.client: 🧪 View experiment at: http://localhost:8080/#/experiments/126551647513598786.\n"
     ]
    },
    {
     "name": "stdout",
     "output_type": "stream",
     "text": [
      "Modelo: PCA + Logistic Regression\n",
      "Accuracy: 0.9705882352941176\n",
      "Precision: 1.0\n",
      "Recall: 0.95\n",
      "F1-score: 0.9743589743589743\n"
     ]
    },
    {
     "name": "stderr",
     "output_type": "stream",
     "text": [
      "2024/10/20 23:56:58 WARNING mlflow.models.model: Model logged without a signature and input example. Please set `input_example` parameter when logging the model to auto infer the model signature.\n",
      "2024/10/20 23:56:59 INFO mlflow.tracking._tracking_service.client: 🏃 View run PCA + Logistic Regression_Run_4_Params(0.01, 'l2', 'saga', 1000) at: http://localhost:8080/#/experiments/126551647513598786/runs/87b8b1e812304c4b87c12d5261e156a5.\n",
      "2024/10/20 23:56:59 INFO mlflow.tracking._tracking_service.client: 🧪 View experiment at: http://localhost:8080/#/experiments/126551647513598786.\n"
     ]
    },
    {
     "name": "stdout",
     "output_type": "stream",
     "text": [
      "Modelo: PCA + Logistic Regression\n",
      "Accuracy: 0.9705882352941176\n",
      "Precision: 1.0\n",
      "Recall: 0.95\n",
      "F1-score: 0.9743589743589743\n"
     ]
    },
    {
     "name": "stderr",
     "output_type": "stream",
     "text": [
      "2024/10/20 23:57:02 WARNING mlflow.models.model: Model logged without a signature and input example. Please set `input_example` parameter when logging the model to auto infer the model signature.\n",
      "2024/10/20 23:57:03 INFO mlflow.tracking._tracking_service.client: 🏃 View run PCA + Logistic Regression_Run_5_Params(0.1, 'l1', 'liblinear', 1000) at: http://localhost:8080/#/experiments/126551647513598786/runs/32266130a78940af86c789d8db1a569b.\n",
      "2024/10/20 23:57:03 INFO mlflow.tracking._tracking_service.client: 🧪 View experiment at: http://localhost:8080/#/experiments/126551647513598786.\n"
     ]
    },
    {
     "name": "stdout",
     "output_type": "stream",
     "text": [
      "Modelo: PCA + Logistic Regression\n",
      "Accuracy: 0.9705882352941176\n",
      "Precision: 1.0\n",
      "Recall: 0.95\n",
      "F1-score: 0.9743589743589743\n"
     ]
    },
    {
     "name": "stderr",
     "output_type": "stream",
     "text": [
      "2024/10/20 23:57:07 WARNING mlflow.models.model: Model logged without a signature and input example. Please set `input_example` parameter when logging the model to auto infer the model signature.\n",
      "2024/10/20 23:57:07 INFO mlflow.tracking._tracking_service.client: 🏃 View run PCA + Logistic Regression_Run_6_Params(0.1, 'l1', 'saga', 1000) at: http://localhost:8080/#/experiments/126551647513598786/runs/5cc2f7dbe734413581de76a0e8f6b82e.\n",
      "2024/10/20 23:57:07 INFO mlflow.tracking._tracking_service.client: 🧪 View experiment at: http://localhost:8080/#/experiments/126551647513598786.\n"
     ]
    },
    {
     "name": "stdout",
     "output_type": "stream",
     "text": [
      "Modelo: PCA + Logistic Regression\n",
      "Accuracy: 0.9705882352941176\n",
      "Precision: 1.0\n",
      "Recall: 0.95\n",
      "F1-score: 0.9743589743589743\n"
     ]
    },
    {
     "name": "stderr",
     "output_type": "stream",
     "text": [
      "2024/10/20 23:57:11 WARNING mlflow.models.model: Model logged without a signature and input example. Please set `input_example` parameter when logging the model to auto infer the model signature.\n",
      "2024/10/20 23:57:11 INFO mlflow.tracking._tracking_service.client: 🏃 View run PCA + Logistic Regression_Run_7_Params(0.1, 'l2', 'liblinear', 1000) at: http://localhost:8080/#/experiments/126551647513598786/runs/471463a31f7743cb9cbcf8868332bf42.\n",
      "2024/10/20 23:57:11 INFO mlflow.tracking._tracking_service.client: 🧪 View experiment at: http://localhost:8080/#/experiments/126551647513598786.\n"
     ]
    },
    {
     "name": "stdout",
     "output_type": "stream",
     "text": [
      "Modelo: PCA + Logistic Regression\n",
      "Accuracy: 0.9705882352941176\n",
      "Precision: 1.0\n",
      "Recall: 0.95\n",
      "F1-score: 0.9743589743589743\n"
     ]
    },
    {
     "name": "stderr",
     "output_type": "stream",
     "text": [
      "2024/10/20 23:57:16 WARNING mlflow.models.model: Model logged without a signature and input example. Please set `input_example` parameter when logging the model to auto infer the model signature.\n",
      "2024/10/20 23:57:16 INFO mlflow.tracking._tracking_service.client: 🏃 View run PCA + Logistic Regression_Run_8_Params(0.1, 'l2', 'saga', 1000) at: http://localhost:8080/#/experiments/126551647513598786/runs/a262a65933a34f7bb39bc22e7f1867ae.\n",
      "2024/10/20 23:57:16 INFO mlflow.tracking._tracking_service.client: 🧪 View experiment at: http://localhost:8080/#/experiments/126551647513598786.\n"
     ]
    },
    {
     "name": "stdout",
     "output_type": "stream",
     "text": [
      "Modelo: PCA + Logistic Regression\n",
      "Accuracy: 1.0\n",
      "Precision: 1.0\n",
      "Recall: 1.0\n",
      "F1-score: 1.0\n"
     ]
    },
    {
     "name": "stderr",
     "output_type": "stream",
     "text": [
      "2024/10/20 23:57:20 WARNING mlflow.models.model: Model logged without a signature and input example. Please set `input_example` parameter when logging the model to auto infer the model signature.\n",
      "2024/10/20 23:57:20 INFO mlflow.tracking._tracking_service.client: 🏃 View run PCA + Logistic Regression_Run_9_Params(1, 'l1', 'liblinear', 1000) at: http://localhost:8080/#/experiments/126551647513598786/runs/2600b283c97f4f5589b6a47e090ef0ce.\n",
      "2024/10/20 23:57:20 INFO mlflow.tracking._tracking_service.client: 🧪 View experiment at: http://localhost:8080/#/experiments/126551647513598786.\n"
     ]
    },
    {
     "name": "stdout",
     "output_type": "stream",
     "text": [
      "Modelo: PCA + Logistic Regression\n",
      "Accuracy: 0.9705882352941176\n",
      "Precision: 1.0\n",
      "Recall: 0.95\n",
      "F1-score: 0.9743589743589743\n"
     ]
    },
    {
     "name": "stderr",
     "output_type": "stream",
     "text": [
      "C:\\Users\\a.ockrassa.morales\\Documents\\Otto\\CosasOtto\\Python\\mlops\\Lib\\site-packages\\sklearn\\linear_model\\_sag.py:349: ConvergenceWarning: The max_iter was reached which means the coef_ did not converge\n",
      "  warnings.warn(\n",
      "2024/10/20 23:57:24 WARNING mlflow.models.model: Model logged without a signature and input example. Please set `input_example` parameter when logging the model to auto infer the model signature.\n",
      "2024/10/20 23:57:24 INFO mlflow.tracking._tracking_service.client: 🏃 View run PCA + Logistic Regression_Run_10_Params(1, 'l1', 'saga', 1000) at: http://localhost:8080/#/experiments/126551647513598786/runs/62ca29521eb54caea327d8aba2899498.\n",
      "2024/10/20 23:57:24 INFO mlflow.tracking._tracking_service.client: 🧪 View experiment at: http://localhost:8080/#/experiments/126551647513598786.\n"
     ]
    },
    {
     "name": "stdout",
     "output_type": "stream",
     "text": [
      "Modelo: PCA + Logistic Regression\n",
      "Accuracy: 1.0\n",
      "Precision: 1.0\n",
      "Recall: 1.0\n",
      "F1-score: 1.0\n"
     ]
    },
    {
     "name": "stderr",
     "output_type": "stream",
     "text": [
      "2024/10/20 23:57:28 WARNING mlflow.models.model: Model logged without a signature and input example. Please set `input_example` parameter when logging the model to auto infer the model signature.\n",
      "2024/10/20 23:57:28 INFO mlflow.tracking._tracking_service.client: 🏃 View run PCA + Logistic Regression_Run_11_Params(1, 'l2', 'liblinear', 1000) at: http://localhost:8080/#/experiments/126551647513598786/runs/f0d33dcf09a544bdb7445135cd4c2b4b.\n",
      "2024/10/20 23:57:28 INFO mlflow.tracking._tracking_service.client: 🧪 View experiment at: http://localhost:8080/#/experiments/126551647513598786.\n"
     ]
    },
    {
     "name": "stdout",
     "output_type": "stream",
     "text": [
      "Modelo: PCA + Logistic Regression\n",
      "Accuracy: 0.9705882352941176\n",
      "Precision: 1.0\n",
      "Recall: 0.95\n",
      "F1-score: 0.9743589743589743\n"
     ]
    },
    {
     "name": "stderr",
     "output_type": "stream",
     "text": [
      "C:\\Users\\a.ockrassa.morales\\Documents\\Otto\\CosasOtto\\Python\\mlops\\Lib\\site-packages\\sklearn\\linear_model\\_sag.py:349: ConvergenceWarning: The max_iter was reached which means the coef_ did not converge\n",
      "  warnings.warn(\n",
      "2024/10/20 23:57:32 WARNING mlflow.models.model: Model logged without a signature and input example. Please set `input_example` parameter when logging the model to auto infer the model signature.\n",
      "2024/10/20 23:57:32 INFO mlflow.tracking._tracking_service.client: 🏃 View run PCA + Logistic Regression_Run_12_Params(1, 'l2', 'saga', 1000) at: http://localhost:8080/#/experiments/126551647513598786/runs/cc4bee2dd46348d88ef1a6540e0852ff.\n",
      "2024/10/20 23:57:32 INFO mlflow.tracking._tracking_service.client: 🧪 View experiment at: http://localhost:8080/#/experiments/126551647513598786.\n"
     ]
    },
    {
     "name": "stdout",
     "output_type": "stream",
     "text": [
      "Modelo: PCA + Logistic Regression\n",
      "Accuracy: 1.0\n",
      "Precision: 1.0\n",
      "Recall: 1.0\n",
      "F1-score: 1.0\n"
     ]
    },
    {
     "name": "stderr",
     "output_type": "stream",
     "text": [
      "2024/10/20 23:57:36 WARNING mlflow.models.model: Model logged without a signature and input example. Please set `input_example` parameter when logging the model to auto infer the model signature.\n",
      "2024/10/20 23:57:37 INFO mlflow.tracking._tracking_service.client: 🏃 View run PCA + Logistic Regression_Run_13_Params(10, 'l1', 'liblinear', 1000) at: http://localhost:8080/#/experiments/126551647513598786/runs/ba587606e14941668c4bcc0bdcda9ab7.\n",
      "2024/10/20 23:57:37 INFO mlflow.tracking._tracking_service.client: 🧪 View experiment at: http://localhost:8080/#/experiments/126551647513598786.\n"
     ]
    },
    {
     "name": "stdout",
     "output_type": "stream",
     "text": [
      "Modelo: PCA + Logistic Regression\n",
      "Accuracy: 1.0\n",
      "Precision: 1.0\n",
      "Recall: 1.0\n",
      "F1-score: 1.0\n"
     ]
    },
    {
     "name": "stderr",
     "output_type": "stream",
     "text": [
      "C:\\Users\\a.ockrassa.morales\\Documents\\Otto\\CosasOtto\\Python\\mlops\\Lib\\site-packages\\sklearn\\linear_model\\_sag.py:349: ConvergenceWarning: The max_iter was reached which means the coef_ did not converge\n",
      "  warnings.warn(\n",
      "2024/10/20 23:57:41 WARNING mlflow.models.model: Model logged without a signature and input example. Please set `input_example` parameter when logging the model to auto infer the model signature.\n",
      "2024/10/20 23:57:41 INFO mlflow.tracking._tracking_service.client: 🏃 View run PCA + Logistic Regression_Run_14_Params(10, 'l1', 'saga', 1000) at: http://localhost:8080/#/experiments/126551647513598786/runs/27110e1e3ef94fac9fccae5ff1fbe21a.\n",
      "2024/10/20 23:57:41 INFO mlflow.tracking._tracking_service.client: 🧪 View experiment at: http://localhost:8080/#/experiments/126551647513598786.\n"
     ]
    },
    {
     "name": "stdout",
     "output_type": "stream",
     "text": [
      "Modelo: PCA + Logistic Regression\n",
      "Accuracy: 1.0\n",
      "Precision: 1.0\n",
      "Recall: 1.0\n",
      "F1-score: 1.0\n"
     ]
    },
    {
     "name": "stderr",
     "output_type": "stream",
     "text": [
      "2024/10/20 23:57:45 WARNING mlflow.models.model: Model logged without a signature and input example. Please set `input_example` parameter when logging the model to auto infer the model signature.\n",
      "2024/10/20 23:57:45 INFO mlflow.tracking._tracking_service.client: 🏃 View run PCA + Logistic Regression_Run_15_Params(10, 'l2', 'liblinear', 1000) at: http://localhost:8080/#/experiments/126551647513598786/runs/694ce9e5c4434aaeb446a91a8413fa6e.\n",
      "2024/10/20 23:57:45 INFO mlflow.tracking._tracking_service.client: 🧪 View experiment at: http://localhost:8080/#/experiments/126551647513598786.\n"
     ]
    },
    {
     "name": "stdout",
     "output_type": "stream",
     "text": [
      "Modelo: PCA + Logistic Regression\n",
      "Accuracy: 1.0\n",
      "Precision: 1.0\n",
      "Recall: 1.0\n",
      "F1-score: 1.0\n"
     ]
    },
    {
     "name": "stderr",
     "output_type": "stream",
     "text": [
      "C:\\Users\\a.ockrassa.morales\\Documents\\Otto\\CosasOtto\\Python\\mlops\\Lib\\site-packages\\sklearn\\linear_model\\_sag.py:349: ConvergenceWarning: The max_iter was reached which means the coef_ did not converge\n",
      "  warnings.warn(\n",
      "2024/10/20 23:57:49 WARNING mlflow.models.model: Model logged without a signature and input example. Please set `input_example` parameter when logging the model to auto infer the model signature.\n",
      "2024/10/20 23:57:49 INFO mlflow.tracking._tracking_service.client: 🏃 View run PCA + Logistic Regression_Run_16_Params(10, 'l2', 'saga', 1000) at: http://localhost:8080/#/experiments/126551647513598786/runs/0425b961e6f145c4b7dcf4df215ee076.\n",
      "2024/10/20 23:57:49 INFO mlflow.tracking._tracking_service.client: 🧪 View experiment at: http://localhost:8080/#/experiments/126551647513598786.\n"
     ]
    },
    {
     "name": "stdout",
     "output_type": "stream",
     "text": [
      "Modelo: PCA + Logistic Regression\n",
      "Accuracy: 1.0\n",
      "Precision: 1.0\n",
      "Recall: 1.0\n",
      "F1-score: 1.0\n"
     ]
    },
    {
     "name": "stderr",
     "output_type": "stream",
     "text": [
      "2024/10/20 23:57:53 WARNING mlflow.models.model: Model logged without a signature and input example. Please set `input_example` parameter when logging the model to auto infer the model signature.\n",
      "2024/10/20 23:57:53 INFO mlflow.tracking._tracking_service.client: 🏃 View run PCA + Logistic Regression_Run_17_Params(100, 'l1', 'liblinear', 1000) at: http://localhost:8080/#/experiments/126551647513598786/runs/b95a1d11d0204148aaabce557ec62f5f.\n",
      "2024/10/20 23:57:53 INFO mlflow.tracking._tracking_service.client: 🧪 View experiment at: http://localhost:8080/#/experiments/126551647513598786.\n"
     ]
    },
    {
     "name": "stdout",
     "output_type": "stream",
     "text": [
      "Modelo: PCA + Logistic Regression\n",
      "Accuracy: 1.0\n",
      "Precision: 1.0\n",
      "Recall: 1.0\n",
      "F1-score: 1.0\n"
     ]
    },
    {
     "name": "stderr",
     "output_type": "stream",
     "text": [
      "C:\\Users\\a.ockrassa.morales\\Documents\\Otto\\CosasOtto\\Python\\mlops\\Lib\\site-packages\\sklearn\\linear_model\\_sag.py:349: ConvergenceWarning: The max_iter was reached which means the coef_ did not converge\n",
      "  warnings.warn(\n",
      "2024/10/20 23:57:57 WARNING mlflow.models.model: Model logged without a signature and input example. Please set `input_example` parameter when logging the model to auto infer the model signature.\n",
      "2024/10/20 23:57:57 INFO mlflow.tracking._tracking_service.client: 🏃 View run PCA + Logistic Regression_Run_18_Params(100, 'l1', 'saga', 1000) at: http://localhost:8080/#/experiments/126551647513598786/runs/7c40f01337394f33b3196cef2a68ce23.\n",
      "2024/10/20 23:57:57 INFO mlflow.tracking._tracking_service.client: 🧪 View experiment at: http://localhost:8080/#/experiments/126551647513598786.\n"
     ]
    },
    {
     "name": "stdout",
     "output_type": "stream",
     "text": [
      "Modelo: PCA + Logistic Regression\n",
      "Accuracy: 1.0\n",
      "Precision: 1.0\n",
      "Recall: 1.0\n",
      "F1-score: 1.0\n"
     ]
    },
    {
     "name": "stderr",
     "output_type": "stream",
     "text": [
      "2024/10/20 23:58:01 WARNING mlflow.models.model: Model logged without a signature and input example. Please set `input_example` parameter when logging the model to auto infer the model signature.\n",
      "2024/10/20 23:58:01 INFO mlflow.tracking._tracking_service.client: 🏃 View run PCA + Logistic Regression_Run_19_Params(100, 'l2', 'liblinear', 1000) at: http://localhost:8080/#/experiments/126551647513598786/runs/0cafaeebbb22489087e5bbe562775e4c.\n",
      "2024/10/20 23:58:01 INFO mlflow.tracking._tracking_service.client: 🧪 View experiment at: http://localhost:8080/#/experiments/126551647513598786.\n"
     ]
    },
    {
     "name": "stdout",
     "output_type": "stream",
     "text": [
      "Modelo: PCA + Logistic Regression\n",
      "Accuracy: 1.0\n",
      "Precision: 1.0\n",
      "Recall: 1.0\n",
      "F1-score: 1.0\n"
     ]
    },
    {
     "name": "stderr",
     "output_type": "stream",
     "text": [
      "C:\\Users\\a.ockrassa.morales\\Documents\\Otto\\CosasOtto\\Python\\mlops\\Lib\\site-packages\\sklearn\\linear_model\\_sag.py:349: ConvergenceWarning: The max_iter was reached which means the coef_ did not converge\n",
      "  warnings.warn(\n",
      "2024/10/20 23:58:05 WARNING mlflow.models.model: Model logged without a signature and input example. Please set `input_example` parameter when logging the model to auto infer the model signature.\n",
      "2024/10/20 23:58:05 INFO mlflow.tracking._tracking_service.client: 🏃 View run PCA + Logistic Regression_Run_20_Params(100, 'l2', 'saga', 1000) at: http://localhost:8080/#/experiments/126551647513598786/runs/839454546cdd4d4aa0cb0796fff4dbd9.\n",
      "2024/10/20 23:58:05 INFO mlflow.tracking._tracking_service.client: 🧪 View experiment at: http://localhost:8080/#/experiments/126551647513598786.\n"
     ]
    },
    {
     "name": "stdout",
     "output_type": "stream",
     "text": [
      "Modelo: PCA + Logistic Regression\n",
      "Accuracy: 1.0\n",
      "Precision: 1.0\n",
      "Recall: 1.0\n",
      "F1-score: 1.0\n"
     ]
    }
   ],
   "source": [
    "# Define una función para el entrenamiento y la evaluación\n",
    "def run_experiment(model_name, model_func, X, y, param_grid):\n",
    "    print(param_grid)\n",
    "    run_counter = 1\n",
    "    for param_combination in itertools.product(*param_grid.values()):\n",
    "        # Crear nombre único para la run\n",
    "        run_name = f\"{model_name}_Run_{run_counter}_Params{param_combination}\"\n",
    "\n",
    "        with mlflow.start_run(run_name=run_name):\n",
    "            mlflow.log_param(\"model_name\", model_name)\n",
    "            mlflow.log_param(\"parameters\", param_combination)\n",
    "\n",
    "            # Entrenamiento del modelo\n",
    "            model, X_test, y_test = model_func(X, y, param_combination[0], param_combination[1], param_combination[2], param_combination[3])\n",
    "            mlflow.sklearn.log_model(model, \"model\")  # Registra el modelo en MLflow\n",
    "    \n",
    "            # Evaluación del modelo\n",
    "            y_pred = model.predict(X_test)\n",
    "    \n",
    "            accuracy = accuracy_score(y_test, y_pred)\n",
    "            precision = precision_score(y_test, y_pred)\n",
    "            recall = recall_score(y_test, y_pred)\n",
    "            f1 = f1_score(y_test, y_pred)\n",
    "    \n",
    "    \n",
    "            mlflow.log_metric(\"accuracy\", accuracy)\n",
    "            mlflow.log_metric(\"precision\", precision)\n",
    "            mlflow.log_metric(\"recall\", recall)\n",
    "            mlflow.log_metric(\"f1_score\", f1)\n",
    "    \n",
    "            print(f\"Modelo: {model_name}\")\n",
    "            print(f\"Accuracy: {accuracy}\")\n",
    "            print(f\"Precision: {precision}\")\n",
    "            print(f\"Recall: {recall}\")\n",
    "            print(f\"F1-score: {f1}\")\n",
    "        # Incrementar el contador de runs\n",
    "        run_counter += 1\n",
    "\n",
    "# Preprocesamiento, entrenamiento y evaluación con MLflow\n",
    "\n",
    "param_grid = {\n",
    "  'C': [0.1, 1, 10, 10001, 0.1],\n",
    "  'penalty': ['l1', 'l2'],\n",
    "  'solver': ['liblinear', 'saga'],\n",
    "  'max_iter':[1000]\n",
    "}\n",
    "\n",
    "# Regresión Logística\n",
    "run_experiment(\"Logistic Regression\", train_logistic_regression, X, y, param_grid)\n",
    "\n",
    "# Random Forest\n",
    "param_grid = {\n",
    "  'n_estimators': [100],\n",
    "  'max_depth': [None, 5, 10],\n",
    "  'min_samples_split': [2, 5, 10],\n",
    "  'min_samples_leaf': [1, 2, 4]\n",
    "}\n",
    "run_experiment(\"Random Forest\", train_random_forest, X, y, param_grid)\n",
    "\n",
    "# PCA + Regresión Logística\n",
    "param_grid = {\n",
    "  'C': [0.01, 0.1, 1, 10, 100],\n",
    "  'penalty': ['l1', 'l2'],\n",
    "  'solver': ['liblinear', 'saga'],\n",
    "  'max_iter':[1000]\n",
    "}\n",
    "run_experiment(\"PCA + Logistic Regression\", train_with_pca, X, y, param_grid)"
   ]
  },
  {
   "cell_type": "code",
   "execution_count": 8,
   "metadata": {},
   "outputs": [
    {
     "name": "stdout",
     "output_type": "stream",
     "text": [
      "0 (100, None, 2, 1)\n",
      "1 (100, None, 2, 2)\n",
      "2 (100, None, 2, 4)\n",
      "3 (100, None, 5, 1)\n",
      "4 (100, None, 5, 2)\n",
      "5 (100, None, 5, 4)\n",
      "6 (100, None, 10, 1)\n",
      "7 (100, None, 10, 2)\n",
      "8 (100, None, 10, 4)\n",
      "9 (100, 5, 2, 1)\n",
      "10 (100, 5, 2, 2)\n",
      "11 (100, 5, 2, 4)\n",
      "12 (100, 5, 5, 1)\n",
      "13 (100, 5, 5, 2)\n",
      "14 (100, 5, 5, 4)\n",
      "15 (100, 5, 10, 1)\n",
      "16 (100, 5, 10, 2)\n",
      "17 (100, 5, 10, 4)\n",
      "18 (100, 10, 2, 1)\n",
      "19 (100, 10, 2, 2)\n",
      "20 (100, 10, 2, 4)\n",
      "21 (100, 10, 5, 1)\n",
      "22 (100, 10, 5, 2)\n",
      "23 (100, 10, 5, 4)\n",
      "24 (100, 10, 10, 1)\n",
      "25 (100, 10, 10, 2)\n",
      "26 (100, 10, 10, 4)\n"
     ]
    }
   ],
   "source": [
    "import itertools\n",
    "i = 0\n",
    "for param_combination in itertools.product(*param_grid.values()):\n",
    "    print(i, param_combination)\n",
    "    i = i +1"
   ]
  },
  {
   "cell_type": "code",
   "execution_count": null,
   "metadata": {},
   "outputs": [],
   "source": []
  },
  {
   "cell_type": "code",
   "execution_count": null,
   "metadata": {},
   "outputs": [],
   "source": []
  }
 ],
 "metadata": {
  "kernelspec": {
   "display_name": "Python 3 (ipykernel)",
   "language": "python",
   "name": "python3"
  },
  "language_info": {
   "codemirror_mode": {
    "name": "ipython",
    "version": 3
   },
   "file_extension": ".py",
   "mimetype": "text/x-python",
   "name": "python",
   "nbconvert_exporter": "python",
   "pygments_lexer": "ipython3",
   "version": "3.12.6"
  }
 },
 "nbformat": 4,
 "nbformat_minor": 4
}
